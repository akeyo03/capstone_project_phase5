{
  "nbformat": 4,
  "nbformat_minor": 0,
  "metadata": {
    "colab": {
      "provenance": []
    },
    "kernelspec": {
      "name": "python3",
      "display_name": "Python 3"
    },
    "language_info": {
      "name": "python"
    }
  },
  "cells": [
    {
      "cell_type": "markdown",
      "source": [
        "Travel Recomendations"
      ],
      "metadata": {
        "id": "PkfHchhzbdaU"
      }
    },
    {
      "cell_type": "markdown",
      "source": [
        "Group Members\n",
        "\n",
        "1.Robinson Karasha\n",
        "\n",
        "2.Maureen Wambugu\n",
        "\n",
        "3.Natalie Omondi\n",
        "\n",
        "4.James Kamau\n",
        "\n",
        "5.Martin Omondi\n",
        "\n",
        "6.Andrew Manwa\n"
      ],
      "metadata": {
        "id": "B4eFjyLJbpiR"
      }
    },
    {
      "cell_type": "markdown",
      "source": [
        "Business Understanding"
      ],
      "metadata": {
        "id": "W1McqPKFnx80"
      }
    },
    {
      "cell_type": "markdown",
      "source": [
        "It is common to seek recomendations from others when travelling,it can be friends or family who have visited various places.Not only do we seek from the known but also from online platforms where there given reviews by unknown users.The aim is to develop a travel planning system that will consider the users requirments and provide a travel planing schedule.This will enable them to find what they are looking for easily without spending time and effort.Some of the objectives of the travel recomendation sysytem are:\n",
        "\n",
        "1.improving user overall experience\n",
        "\n",
        "2.increasing the user engagement\n",
        "\n",
        "3.Explanding the new destination and strategic places\n",
        "\n",
        "4.Encourage user geneated experience\n"
      ],
      "metadata": {
        "id": "a2FWpovXqF26"
      }
    },
    {
      "cell_type": "code",
      "source": [],
      "metadata": {
        "id": "jBUu9LVZeIkC"
      },
      "execution_count": null,
      "outputs": []
    }
  ]
}